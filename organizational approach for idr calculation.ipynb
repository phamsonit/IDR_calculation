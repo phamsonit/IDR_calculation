{
 "cells": [
  {
   "cell_type": "markdown",
   "id": "regional-budget",
   "metadata": {},
   "source": [
    "# This Jupyter notebook provides sample data and code to calculate the Interdisciplinary Research (IDR) index using an organizational approach, as described in the paper titled \"Identifying Interdisciplinary Research in Research Projects.\""
   ]
  },
  {
   "cell_type": "code",
   "execution_count": 67,
   "id": "sacred-hotel",
   "metadata": {},
   "outputs": [],
   "source": [
    "import numpy as np\n",
    "import builtins\n",
    "from scipy.optimize import linprog"
   ]
  },
  {
   "cell_type": "markdown",
   "id": "pacific-yukon",
   "metadata": {},
   "source": [
    "## Sample data"
   ]
  },
  {
   "cell_type": "code",
   "execution_count": 81,
   "id": "protective-negotiation",
   "metadata": {},
   "outputs": [],
   "source": [
    "# Let's consider a Research Information System (RIS) that utilizes five disciplines to classify research documents.\n",
    "# The distance matrix between these disciplines can be computed as follows:\n",
    "M = np.array([[0.0, 0.9, 0.7, 0.2, 0.8],\n",
    "              [0.9, 0.0, 0.8, 0.1, 0.3],\n",
    "              [0.7, 0.8, 0.0, 0.6, 0.5],\n",
    "              [0.2, 0.1, 0.6, 0.0, 0.9],\n",
    "              [0.8, 0.3, 0.5, 0.9, 0.0]])\n",
    "\n",
    "# Each researcher is defined as an array of discipline distributions (the total sum of weights should be 1).\n",
    "p1=np.array([0.3, 0.4, 0.3, 0.0, 0.0])\n",
    "p2=np.array([0.0, 0.0, 0.0, 0.5, 0.5])\n",
    "p3=np.array([0.0, 0.0, 1.0, 0.0, 0.0])\n",
    "p4=np.array([0.0, 1.0, 0.0, 0.0, 0.0])\n",
    "p5=np.array([0.2, 0.2, 0.2, 0.4, 0.0])\n",
    "p6=np.array([0.0, 0.0, 0.0, 0.6, 0.4])\n",
    "\n",
    "# Each project involves a list of researchers. For example, R1 and R2 are two list of researchers involved in project p1 and p2:\n",
    "R1 = [p1,p2,p3]\n",
    "R2 = [p4,p5,p6]\n",
    "\n",
    "# Similar to researcher, each project is also defined as an array of discipline distribution:\n",
    "p1 = np.array([0.5, 0.5, 0.0, 0.0, 0.0])\n",
    "p2 = np.array([0.5, 0.0, 0.5, 0.0, 0.0])"
   ]
  },
  {
   "cell_type": "markdown",
   "id": "sporting-nothing",
   "metadata": {},
   "source": [
    "### Define procedures to calculate wasserstein distance"
   ]
  },
  {
   "cell_type": "code",
   "execution_count": 69,
   "id": "important-aluminum",
   "metadata": {},
   "outputs": [],
   "source": [
    "# Procedures to calcuate wassetein distance between two researchers\n",
    "\n",
    "# Transform sparse arrays p,q and M to dense arrays by deleting entries (disciplines) which are zero for both p and q.\n",
    "def discipline_compressor(p, q, M):\n",
    "    zero_entries = []\n",
    "    for i in range(len(p)):\n",
    "        if p[i] == 0 and q[i] == 0:\n",
    "            zero_entries.append(i)\n",
    "    zero_entries.sort(reverse=True)\n",
    "    p_dense = p.copy()\n",
    "    q_dense = q.copy()\n",
    "    M_dense = M.copy()\n",
    "    for j in zero_entries:\n",
    "        M_dense = np.delete(M_dense, j, 1)\n",
    "        M_dense = np.delete(M_dense, j, 0)\n",
    "        p_dense = np.delete(p_dense, j)\n",
    "        q_dense = np.delete(q_dense, j)\n",
    "    return p_dense, q_dense, M_dense\n",
    "\n",
    "\n",
    "# Make constraints for the linear programming\n",
    "def constraint_maker(n):\n",
    "    constraint_matrix = np.zeros((2 * n, n ** 2))\n",
    "    for i in range(n):\n",
    "        constraint_matrix[i][i * n:i * n + n] = np.ones(n)\n",
    "        for j in range(n):\n",
    "            constraint_matrix[i + n][n * j + i] = 1\n",
    "    constraint_matrix = np.delete(constraint_matrix, 0, 0)  # delete first (redundent) row to get full row rank\n",
    "    return constraint_matrix\n",
    "\n",
    "\n",
    "# calculate the wasserstein distance between person p and q given distance matrix M\n",
    "def wasserstein(p, q, M):\n",
    "    p_dense, q_dense, M_dense = discipline_compressor(p, q, M)\n",
    "    obj = M_dense.flatten()\n",
    "    lhs_eq = constraint_maker(len(p_dense))\n",
    "    rhs_eq = np.append(p_dense, q_dense)[1:]\n",
    "    opt = linprog(c=obj,\n",
    "                  A_eq=lhs_eq, b_eq=rhs_eq,\n",
    "                  method=\"revised simplex\")\n",
    "    return opt.fun"
   ]
  },
  {
   "cell_type": "markdown",
   "id": "framed-rouge",
   "metadata": {},
   "source": [
    "### Define procedures to calculate diversity"
   ]
  },
  {
   "cell_type": "code",
   "execution_count": 76,
   "id": "missing-breathing",
   "metadata": {},
   "outputs": [],
   "source": [
    "def unique_person_project(R):\n",
    "    \"\"\"\n",
    "    This function returns a list with every unique person in a project together with its frequency\n",
    "    :param R list of researchers\n",
    "    :return\n",
    "    \"\"\"\n",
    "    if len(R) == 1:\n",
    "        return [(R[0], 1)]\n",
    "    freq_list = []\n",
    "    for unique in np.unique(R, axis=0):\n",
    "        count = 0\n",
    "        for pers in R:\n",
    "            if builtins.all(unique == pers):\n",
    "                count = count + 1\n",
    "        freq_list = freq_list + [(unique, count)]\n",
    "    return freq_list\n",
    "\n",
    "# Define procedure to calculate diversity of researchers R\n",
    "def diversity_calculation(R, M):\n",
    "    \"\"\"\n",
    "    Calculate diversity of researchers\n",
    "    :param R list of researchers\n",
    "    :param M distance matrix\n",
    "    :return diversity score\n",
    "    \"\"\"\n",
    "    diversity = 0\n",
    "    nb_researchers = len(R)\n",
    "    uni_R = unique_person_project(R)\n",
    "    nb_uni_researchers = len(uni_R)\n",
    "    for i in range(nb_uni_researchers-1):\n",
    "        fi = uni_R[i][1] / nb_researchers\n",
    "        sum_j = 0\n",
    "        for j in range(i + 1, nb_uni_researchers):\n",
    "            fj = uni_R[j][1] / nb_researchers\n",
    "            dm_ij = wasserstein(uni_R[i][0], uni_R[j][0], M)\n",
    "            sum_j += fj * dm_ij\n",
    "        diversity += fi * sum_j\n",
    "\n",
    "    return diversity"
   ]
  },
  {
   "cell_type": "markdown",
   "id": "traditional-helmet",
   "metadata": {},
   "source": [
    "### Define procedures to calculate relevancy weight"
   ]
  },
  {
   "cell_type": "code",
   "execution_count": 86,
   "id": "acknowledged-switzerland",
   "metadata": {},
   "outputs": [],
   "source": [
    "# define procedure to calcualte relevancy weights of researchers\n",
    "def relevancy_weight(R, p, M):\n",
    "    \"\"\"\n",
    "    calculate relevancy weight of a list of researchers with the project\n",
    "    :param R list of distribution of disciplines of researchers\n",
    "    :param p distribution of disciplines of project\n",
    "    :param M distance matrix\n",
    "    :return a list of values, each one is the relevancy weight of a researchers\n",
    "    \"\"\"\n",
    "    min_distance = []\n",
    "    # for each researcher\n",
    "    for r in R:\n",
    "        # find minimum distance of disciplines\n",
    "        ri_min_distance = 1\n",
    "        for i in range(len(r)):\n",
    "            if r[i] != 0:\n",
    "                for j in range(len(p)):\n",
    "                    if p[j]!=0:\n",
    "                        ri_min_distance = min(ri_min_distance, M[i][j])\n",
    "        min_distance.append(1-ri_min_distance)\n",
    "    return min_distance"
   ]
  },
  {
   "cell_type": "markdown",
   "id": "egyptian-completion",
   "metadata": {},
   "source": [
    "### calculate diversity of researchers R1"
   ]
  },
  {
   "cell_type": "code",
   "execution_count": 82,
   "id": "bigger-stupid",
   "metadata": {},
   "outputs": [
    {
     "data": {
      "text/plain": [
       "0.15222222222222223"
      ]
     },
     "execution_count": 82,
     "metadata": {},
     "output_type": "execute_result"
    }
   ],
   "source": [
    "diversity_calculation(R1,M)"
   ]
  },
  {
   "cell_type": "markdown",
   "id": "electronic-queens",
   "metadata": {},
   "source": [
    "### calculate diversity of researchers R2"
   ]
  },
  {
   "cell_type": "code",
   "execution_count": 83,
   "id": "passive-casino",
   "metadata": {},
   "outputs": [
    {
     "data": {
      "text/plain": [
       "0.08444444444444445"
      ]
     },
     "execution_count": 83,
     "metadata": {},
     "output_type": "execute_result"
    }
   ],
   "source": [
    "diversity_calculation(R2,M)"
   ]
  },
  {
   "cell_type": "markdown",
   "id": "attempted-devices",
   "metadata": {},
   "source": [
    "### calculate relevancy weights of researchers R1 and project p1"
   ]
  },
  {
   "cell_type": "code",
   "execution_count": 87,
   "id": "nuclear-pennsylvania",
   "metadata": {},
   "outputs": [
    {
     "data": {
      "text/plain": [
       "[1.0, 0.9, 0.30000000000000004]"
      ]
     },
     "execution_count": 87,
     "metadata": {},
     "output_type": "execute_result"
    }
   ],
   "source": [
    "relevancy_weight(R1,p1,M)"
   ]
  },
  {
   "cell_type": "markdown",
   "id": "raised-nudist",
   "metadata": {},
   "source": [
    "### calculate relevancy weights of researchers R2 and project p2"
   ]
  },
  {
   "cell_type": "code",
   "execution_count": 88,
   "id": "gothic-blair",
   "metadata": {},
   "outputs": [
    {
     "data": {
      "text/plain": [
       "[0.19999999999999996, 1.0, 0.8]"
      ]
     },
     "execution_count": 88,
     "metadata": {},
     "output_type": "execute_result"
    }
   ],
   "source": [
    "relevancy_weight(R2,p2,M)"
   ]
  },
  {
   "cell_type": "code",
   "execution_count": null,
   "id": "boolean-conflict",
   "metadata": {},
   "outputs": [],
   "source": []
  }
 ],
 "metadata": {
  "kernelspec": {
   "display_name": "Python 3 (ipykernel)",
   "language": "python",
   "name": "python3"
  },
  "language_info": {
   "codemirror_mode": {
    "name": "ipython",
    "version": 3
   },
   "file_extension": ".py",
   "mimetype": "text/x-python",
   "name": "python",
   "nbconvert_exporter": "python",
   "pygments_lexer": "ipython3",
   "version": "3.7.9"
  }
 },
 "nbformat": 4,
 "nbformat_minor": 5
}
